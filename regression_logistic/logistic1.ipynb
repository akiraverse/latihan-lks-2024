{
 "cells": [
  {
   "cell_type": "code",
   "execution_count": 147,
   "metadata": {},
   "outputs": [],
   "source": [
    "import pandas as pd\n",
    "import numpy as np\n",
    "import matplotlib.pyplot as plt \n",
    "import seaborn as sns\n",
    "import statsmodels\n",
    "sns.set()"
   ]
  },
  {
   "cell_type": "code",
   "execution_count": 148,
   "metadata": {},
   "outputs": [
    {
     "data": {
      "text/html": [
       "<div>\n",
       "<style scoped>\n",
       "    .dataframe tbody tr th:only-of-type {\n",
       "        vertical-align: middle;\n",
       "    }\n",
       "\n",
       "    .dataframe tbody tr th {\n",
       "        vertical-align: top;\n",
       "    }\n",
       "\n",
       "    .dataframe thead th {\n",
       "        text-align: right;\n",
       "    }\n",
       "</style>\n",
       "<table border=\"1\" class=\"dataframe\">\n",
       "  <thead>\n",
       "    <tr style=\"text-align: right;\">\n",
       "      <th></th>\n",
       "      <th>User ID</th>\n",
       "      <th>Gender</th>\n",
       "      <th>Age</th>\n",
       "      <th>EstimatedSalary</th>\n",
       "      <th>Purchased</th>\n",
       "    </tr>\n",
       "  </thead>\n",
       "  <tbody>\n",
       "    <tr>\n",
       "      <th>0</th>\n",
       "      <td>15624510</td>\n",
       "      <td>Male</td>\n",
       "      <td>19</td>\n",
       "      <td>19000</td>\n",
       "      <td>0</td>\n",
       "    </tr>\n",
       "    <tr>\n",
       "      <th>1</th>\n",
       "      <td>15810944</td>\n",
       "      <td>Male</td>\n",
       "      <td>35</td>\n",
       "      <td>20000</td>\n",
       "      <td>0</td>\n",
       "    </tr>\n",
       "    <tr>\n",
       "      <th>2</th>\n",
       "      <td>15668575</td>\n",
       "      <td>Female</td>\n",
       "      <td>26</td>\n",
       "      <td>43000</td>\n",
       "      <td>0</td>\n",
       "    </tr>\n",
       "    <tr>\n",
       "      <th>3</th>\n",
       "      <td>15603246</td>\n",
       "      <td>Female</td>\n",
       "      <td>27</td>\n",
       "      <td>57000</td>\n",
       "      <td>0</td>\n",
       "    </tr>\n",
       "    <tr>\n",
       "      <th>4</th>\n",
       "      <td>15804002</td>\n",
       "      <td>Male</td>\n",
       "      <td>19</td>\n",
       "      <td>76000</td>\n",
       "      <td>0</td>\n",
       "    </tr>\n",
       "  </tbody>\n",
       "</table>\n",
       "</div>"
      ],
      "text/plain": [
       "    User ID  Gender  Age  EstimatedSalary  Purchased\n",
       "0  15624510    Male   19            19000          0\n",
       "1  15810944    Male   35            20000          0\n",
       "2  15668575  Female   26            43000          0\n",
       "3  15603246  Female   27            57000          0\n",
       "4  15804002    Male   19            76000          0"
      ]
     },
     "execution_count": 148,
     "metadata": {},
     "output_type": "execute_result"
    }
   ],
   "source": [
    "data = pd.read_csv('social_network.csv')\n",
    "data.head()"
   ]
  },
  {
   "cell_type": "code",
   "execution_count": 149,
   "metadata": {},
   "outputs": [
    {
     "name": "stdout",
     "output_type": "stream",
     "text": [
      "rows: 400, columns: 5\n"
     ]
    }
   ],
   "source": [
    "print(f'rows: {data.shape[0]}, columns: {data.shape[1]}')"
   ]
  },
  {
   "cell_type": "code",
   "execution_count": 150,
   "metadata": {},
   "outputs": [
    {
     "name": "stdout",
     "output_type": "stream",
     "text": [
      "<class 'pandas.core.frame.DataFrame'>\n",
      "RangeIndex: 400 entries, 0 to 399\n",
      "Data columns (total 5 columns):\n",
      " #   Column           Non-Null Count  Dtype \n",
      "---  ------           --------------  ----- \n",
      " 0   User ID          400 non-null    int64 \n",
      " 1   Gender           400 non-null    object\n",
      " 2   Age              400 non-null    int64 \n",
      " 3   EstimatedSalary  400 non-null    int64 \n",
      " 4   Purchased        400 non-null    int64 \n",
      "dtypes: int64(4), object(1)\n",
      "memory usage: 15.8+ KB\n"
     ]
    }
   ],
   "source": [
    "data.info()"
   ]
  },
  {
   "cell_type": "code",
   "execution_count": 151,
   "metadata": {},
   "outputs": [
    {
     "data": {
      "text/html": [
       "<div>\n",
       "<style scoped>\n",
       "    .dataframe tbody tr th:only-of-type {\n",
       "        vertical-align: middle;\n",
       "    }\n",
       "\n",
       "    .dataframe tbody tr th {\n",
       "        vertical-align: top;\n",
       "    }\n",
       "\n",
       "    .dataframe thead th {\n",
       "        text-align: right;\n",
       "    }\n",
       "</style>\n",
       "<table border=\"1\" class=\"dataframe\">\n",
       "  <thead>\n",
       "    <tr style=\"text-align: right;\">\n",
       "      <th></th>\n",
       "      <th>User ID</th>\n",
       "      <th>Age</th>\n",
       "      <th>EstimatedSalary</th>\n",
       "      <th>Purchased</th>\n",
       "    </tr>\n",
       "  </thead>\n",
       "  <tbody>\n",
       "    <tr>\n",
       "      <th>count</th>\n",
       "      <td>4.000000e+02</td>\n",
       "      <td>400.000000</td>\n",
       "      <td>400.000000</td>\n",
       "      <td>400.000000</td>\n",
       "    </tr>\n",
       "    <tr>\n",
       "      <th>mean</th>\n",
       "      <td>1.569154e+07</td>\n",
       "      <td>37.655000</td>\n",
       "      <td>69742.500000</td>\n",
       "      <td>0.357500</td>\n",
       "    </tr>\n",
       "    <tr>\n",
       "      <th>std</th>\n",
       "      <td>7.165832e+04</td>\n",
       "      <td>10.482877</td>\n",
       "      <td>34096.960282</td>\n",
       "      <td>0.479864</td>\n",
       "    </tr>\n",
       "    <tr>\n",
       "      <th>min</th>\n",
       "      <td>1.556669e+07</td>\n",
       "      <td>18.000000</td>\n",
       "      <td>15000.000000</td>\n",
       "      <td>0.000000</td>\n",
       "    </tr>\n",
       "    <tr>\n",
       "      <th>25%</th>\n",
       "      <td>1.562676e+07</td>\n",
       "      <td>29.750000</td>\n",
       "      <td>43000.000000</td>\n",
       "      <td>0.000000</td>\n",
       "    </tr>\n",
       "    <tr>\n",
       "      <th>50%</th>\n",
       "      <td>1.569434e+07</td>\n",
       "      <td>37.000000</td>\n",
       "      <td>70000.000000</td>\n",
       "      <td>0.000000</td>\n",
       "    </tr>\n",
       "    <tr>\n",
       "      <th>75%</th>\n",
       "      <td>1.575036e+07</td>\n",
       "      <td>46.000000</td>\n",
       "      <td>88000.000000</td>\n",
       "      <td>1.000000</td>\n",
       "    </tr>\n",
       "    <tr>\n",
       "      <th>max</th>\n",
       "      <td>1.581524e+07</td>\n",
       "      <td>60.000000</td>\n",
       "      <td>150000.000000</td>\n",
       "      <td>1.000000</td>\n",
       "    </tr>\n",
       "  </tbody>\n",
       "</table>\n",
       "</div>"
      ],
      "text/plain": [
       "            User ID         Age  EstimatedSalary   Purchased\n",
       "count  4.000000e+02  400.000000       400.000000  400.000000\n",
       "mean   1.569154e+07   37.655000     69742.500000    0.357500\n",
       "std    7.165832e+04   10.482877     34096.960282    0.479864\n",
       "min    1.556669e+07   18.000000     15000.000000    0.000000\n",
       "25%    1.562676e+07   29.750000     43000.000000    0.000000\n",
       "50%    1.569434e+07   37.000000     70000.000000    0.000000\n",
       "75%    1.575036e+07   46.000000     88000.000000    1.000000\n",
       "max    1.581524e+07   60.000000    150000.000000    1.000000"
      ]
     },
     "execution_count": 151,
     "metadata": {},
     "output_type": "execute_result"
    }
   ],
   "source": [
    "data.describe()"
   ]
  },
  {
   "cell_type": "code",
   "execution_count": 152,
   "metadata": {},
   "outputs": [
    {
     "data": {
      "text/html": [
       "<div>\n",
       "<style scoped>\n",
       "    .dataframe tbody tr th:only-of-type {\n",
       "        vertical-align: middle;\n",
       "    }\n",
       "\n",
       "    .dataframe tbody tr th {\n",
       "        vertical-align: top;\n",
       "    }\n",
       "\n",
       "    .dataframe thead th {\n",
       "        text-align: right;\n",
       "    }\n",
       "</style>\n",
       "<table border=\"1\" class=\"dataframe\">\n",
       "  <thead>\n",
       "    <tr style=\"text-align: right;\">\n",
       "      <th></th>\n",
       "      <th>User ID</th>\n",
       "      <th>Age</th>\n",
       "      <th>EstimatedSalary</th>\n",
       "      <th>Purchased</th>\n",
       "    </tr>\n",
       "  </thead>\n",
       "  <tbody>\n",
       "    <tr>\n",
       "      <th>User ID</th>\n",
       "      <td>1.000000</td>\n",
       "      <td>-0.000721</td>\n",
       "      <td>0.071097</td>\n",
       "      <td>0.007120</td>\n",
       "    </tr>\n",
       "    <tr>\n",
       "      <th>Age</th>\n",
       "      <td>-0.000721</td>\n",
       "      <td>1.000000</td>\n",
       "      <td>0.155238</td>\n",
       "      <td>0.622454</td>\n",
       "    </tr>\n",
       "    <tr>\n",
       "      <th>EstimatedSalary</th>\n",
       "      <td>0.071097</td>\n",
       "      <td>0.155238</td>\n",
       "      <td>1.000000</td>\n",
       "      <td>0.362083</td>\n",
       "    </tr>\n",
       "    <tr>\n",
       "      <th>Purchased</th>\n",
       "      <td>0.007120</td>\n",
       "      <td>0.622454</td>\n",
       "      <td>0.362083</td>\n",
       "      <td>1.000000</td>\n",
       "    </tr>\n",
       "  </tbody>\n",
       "</table>\n",
       "</div>"
      ],
      "text/plain": [
       "                  User ID       Age  EstimatedSalary  Purchased\n",
       "User ID          1.000000 -0.000721         0.071097   0.007120\n",
       "Age             -0.000721  1.000000         0.155238   0.622454\n",
       "EstimatedSalary  0.071097  0.155238         1.000000   0.362083\n",
       "Purchased        0.007120  0.622454         0.362083   1.000000"
      ]
     },
     "execution_count": 152,
     "metadata": {},
     "output_type": "execute_result"
    }
   ],
   "source": [
    "data.corr(numeric_only=True)"
   ]
  },
  {
   "cell_type": "markdown",
   "metadata": {},
   "source": [
    "### PRE-PROCESSING"
   ]
  },
  {
   "cell_type": "markdown",
   "metadata": {},
   "source": [
    "##### The columns\n",
    "- Gender         \n",
    "- Age          \n",
    "- EstimatedSalary  \n",
    "- Purchased \n",
    "\n",
    "##### To do\n",
    "- Handling missing vlaues\n",
    "- Handling duplicated\n",
    "- Handling anomalies\n",
    "- Handling outliers\n",
    "- Normalization"
   ]
  },
  {
   "cell_type": "code",
   "execution_count": 153,
   "metadata": {},
   "outputs": [
    {
     "data": {
      "text/plain": [
       "User ID            0\n",
       "Gender             0\n",
       "Age                0\n",
       "EstimatedSalary    0\n",
       "Purchased          0\n",
       "dtype: int64"
      ]
     },
     "execution_count": 153,
     "metadata": {},
     "output_type": "execute_result"
    }
   ],
   "source": [
    "data.isnull().sum()"
   ]
  },
  {
   "cell_type": "code",
   "execution_count": 154,
   "metadata": {},
   "outputs": [
    {
     "data": {
      "text/plain": [
       "0"
      ]
     },
     "execution_count": 154,
     "metadata": {},
     "output_type": "execute_result"
    }
   ],
   "source": [
    "data.duplicated().sum()"
   ]
  },
  {
   "cell_type": "code",
   "execution_count": 155,
   "metadata": {},
   "outputs": [],
   "source": [
    "data.drop_duplicates(inplace=True)"
   ]
  },
  {
   "cell_type": "code",
   "execution_count": 156,
   "metadata": {},
   "outputs": [],
   "source": [
    "data.drop('User ID', axis=1, inplace=True)"
   ]
  },
  {
   "cell_type": "code",
   "execution_count": 157,
   "metadata": {},
   "outputs": [
    {
     "data": {
      "text/plain": [
       "(400, 4)"
      ]
     },
     "execution_count": 157,
     "metadata": {},
     "output_type": "execute_result"
    }
   ],
   "source": [
    "data.shape"
   ]
  },
  {
   "cell_type": "code",
   "execution_count": 158,
   "metadata": {},
   "outputs": [
    {
     "data": {
      "image/png": "[encoded data removed]",
      "text/plain": [
       "<Figure size 700x700 with 1 Axes>"
      ]
     },
     "metadata": {},
     "output_type": "display_data"
    },
    {
     "data": {
      "image/png": "[encoded data removed]",
      "text/plain": [
       "<Figure size 700x700 with 1 Axes>"
      ]
     },
     "metadata": {},
     "output_type": "display_data"
    },
    {
     "data": {
      "image/png": "[encoded data removed]",
      "text/plain": [
       "<Figure size 700x700 with 1 Axes>"
      ]
     },
     "metadata": {},
     "output_type": "display_data"
    },
    {
     "data": {
      "image/png": "[encoded data removed]",
      "text/plain": [
       "<Figure size 700x700 with 1 Axes>"
      ]
     },
     "metadata": {},
     "output_type": "display_data"
    }
   ],
   "source": [
    "# checking outliers using boxplot \n",
    "for i in data.columns:\n",
    "\tplt.figure(figsize=[7,7])\n",
    "\tsns.boxplot(y=data[i])\n",
    "\tplt.title(f'Boxplot of {i}')\n",
    "\tplt.show()"
   ]
  },
  {
   "cell_type": "code",
   "execution_count": 159,
   "metadata": {},
   "outputs": [],
   "source": [
    "#checking outliers using interquartile range\n",
    "# Q1 = np.percentile(data, 25)\n",
    "# Q3 = np.percentile(data, 75)\n",
    "# IQR = Q3 - Q1\n",
    "\n",
    "# lower_bound = Q1 - 1.5 * IQR\n",
    "# upper_bound = Q3 + 1.5 * IQR\n",
    "\n",
    "# outliers = []\n",
    "# for i in data:\n",
    "# \tfor x in data[i]:\n",
    "# \t\tif x < lower_bound or x > upper_bound:\n",
    "# \t\t\toutliers.append(x)\n",
    "# len(outliers)"
   ]
  },
  {
   "cell_type": "code",
   "execution_count": 160,
   "metadata": {},
   "outputs": [
    {
     "data": {
      "image/png": "[encoded data removed]",
      "text/plain": [
       "<Figure size 1000x1000 with 1 Axes>"
      ]
     },
     "metadata": {},
     "output_type": "display_data"
    }
   ],
   "source": [
    "# Purchased based on gender, age, and estimated salary\n",
    "\n",
    "gender_purchased = data.groupby(['Gender','Purchased']).size().reset_index(name='Count')\n",
    "labels = gender_purchased['Gender']\n",
    "values = gender_purchased['Count']\n",
    "\n",
    "\n",
    "plt.figure(figsize=(10,10))\n",
    "plt.pie(\n",
    "\tvalues,\n",
    "\tlabels=labels,\n",
    "\tautopct='%1.1f%%', \n",
    "\tstartangle = 90,\n",
    ")\n",
    "plt.title('Purchased by Gender')\n",
    "plt.show()"
   ]
  },
  {
   "cell_type": "code",
   "execution_count": 161,
   "metadata": {},
   "outputs": [
    {
     "name": "stderr",
     "output_type": "stream",
     "text": [
      "/var/folders/_m/x30w5wkd6l59g090_2t6sv1w0000gn/T/ipykernel_5950/1897755642.py:1: FutureWarning: A value is trying to be set on a copy of a DataFrame or Series through chained assignment using an inplace method.\n",
      "The behavior will change in pandas 3.0. This inplace method will never work because the intermediate object on which we are setting values always behaves as a copy.\n",
      "\n",
      "For example, when doing 'df[col].method(value, inplace=True)', try using 'df.method({col: value}, inplace=True)' or df[col] = df[col].method(value) instead, to perform the operation inplace on the original object.\n",
      "\n",
      "\n",
      "  data['Gender'].replace({'Male': 0, 'Female':1}, inplace=True)\n",
      "/var/folders/_m/x30w5wkd6l59g090_2t6sv1w0000gn/T/ipykernel_5950/1897755642.py:1: FutureWarning: Downcasting behavior in `replace` is deprecated and will be removed in a future version. To retain the old behavior, explicitly call `result.infer_objects(copy=False)`. To opt-in to the future behavior, set `pd.set_option('future.no_silent_downcasting', True)`\n",
      "  data['Gender'].replace({'Male': 0, 'Female':1}, inplace=True)\n"
     ]
    }
   ],
   "source": [
    "data['Gender'].replace({'Male': 0, 'Female':1}, inplace=True)"
   ]
  },
  {
   "cell_type": "markdown",
   "metadata": {},
   "source": [
    "### MODELLING\n",
    "- train and test split\n",
    "- algorithm building: sigmoid\n",
    "- accuracy test: cross entropy\n",
    "- new instance input\n",
    "- saving model\n",
    "- using model\n",
    "\n",
    "Maximum likelihood"
   ]
  },
  {
   "cell_type": "code",
   "execution_count": null,
   "metadata": {},
   "outputs": [],
   "source": [
    "class LogisticRegression:\n",
    "\n",
    "\t\n",
    "\tdef __init__(self, lr = 0.001, epochs = 2000):\n",
    "\t\tself.lr = lr\n",
    "\t\tself.epochs = epochs\n",
    "\t\tself.weighs = None\n",
    "\t\tself.bias = None\n",
    "\t\tself.costs = []\n",
    "\n",
    "\n",
    "\n",
    "\tdef train_test_split(self, X, y, test_size):\n",
    "\t\t#shuffling data\n",
    "\t\tindices = np.arange(X.shape[0])\n",
    "\t\tnp.random.shuffle(indices)\n",
    "\n",
    "\t\t#split data\n",
    "\t\ttest_count = int(test_size * X.shape[0])\n",
    "\t\ttest_indices = indices[:test_count]\n",
    "\t\ttrain_indices = indices[test_count:]\n",
    "\n",
    "\t\tX_train, y_train = X[train_indices], y[train_indices]\n",
    "\t\tX_test, y_test = X[test_indices], y[test_indices]\n",
    "\n",
    "\t\treturn X_train, y_train, X_test, y_test\n",
    "\n",
    "\n",
    "\n",
    "\tdef sigmoid(self, z):\n",
    "\t\treturn (1 / (1 + np.exp(-z)))\n",
    "\n",
    "\n",
    "\n",
    "\t# Cost function: Binary Cross-Entropy\n",
    "\tdef cost_function(self, y_true, y_pred):\n",
    "\t\tepsilon = 1e-9\n",
    "\t\t# Without `epsilon`, operations like \\(\\log(0)\\) or \\(\\log(1)\\) would result in undefined or extreme values infty\\)). \n",
    "\t\t# Adding `epsilon` prevents such issues, keeping the calculations well-defined and reliable.\n",
    "\n",
    "\t\ty1 = y_true * np.log(y_pred + epsilon)\n",
    "\t\ty2 = (1-y_true) * np.log(1 - y_pred + epsilon)\n",
    "\t\tcost = -np.mean(y1 + y2)\n",
    "\t\treturn cost\n",
    "\n",
    "\n",
    "\t\n",
    "\tdef gradient_descent(self, X, y):   \n",
    "\t\tn_samples, n_features = X.shape\n",
    "\n",
    "\t\t# init parameters\n",
    "\t\tself.weighs = np.zeros(n_features)\n",
    "\t\tself.bias = 0\n",
    "\n",
    "\t\t# \tFORWARD PROPAGATION\n",
    "\t\tZ = np.dot(X, self.weighs) + self.bias # linear function\n",
    "\t\tA = self.sigmoid(Z) # apply sigmoid to get probabilities\n",
    "\n",
    "\t\tfor _ in range(self.epochs):\n",
    "\t\t\t# Compute cost\n",
    "\t\t\tself.costs.append(self.cost_function(y, A))\n",
    "\n",
    "\t\t\t# \tBACKWARD PROPAGATION (COMPUTE GRADIENT)\n",
    "\t\t\tdZ = A - y\n",
    "\t\t\tdW = ( 1 / n_samples ) * np.dot(dZ, X) \n",
    "\t\t\tdb = ( 1 / n_samples ) * np.sum(dZ)\n",
    "\n",
    "\t\t\t# update weighs and bias using gradient descent\n",
    "\t\t\tself.weighs -= self.lr * dW\n",
    "\t\t\tself.bias -= self.lr * db\n",
    "\n",
    "\n",
    "\n",
    "\tdef predict(self, X):\n",
    "\t\tthreshold = .5\n",
    "\t\tZ = np.dot(X, self.weighs) + self.bias # linear function\n",
    "\t\tA = self.sigmoid(Z) # apply sigmoid to get probabilities\n",
    "\t\tA_cls = [1 if i > threshold else 0 for i in A]\n",
    "\t\treturn np.array(A_cls) # return binary prediction\n",
    "\n"
   ]
  },
  {
   "cell_type": "code",
   "execution_count": 223,
   "metadata": {},
   "outputs": [],
   "source": [
    "class LogisticRegressionMedium:\n",
    "\n",
    "\n",
    "\tdef __init__(self, learning_rate=0.001, n_iters=1000):\n",
    "\t\tself.lr = learning_rate\n",
    "\t\tself.n_iters = n_iters\n",
    "\t\tself.weights = None\n",
    "\t\tself.bias = None\n",
    "\t\tself.losses = []\n",
    "\t\t\t\n",
    "\n",
    "\n",
    "\t#Sigmoid method\n",
    "\tdef _sigmoid(self, x):\n",
    "\t\treturn 1 / (1 + np.exp(-x))\n",
    "\n",
    "\n",
    "\n",
    "\tdef compute_loss(self, y_true, y_pred):\n",
    "\t\t# binary cross entropy\n",
    "\t\tepsilon = 1e-9\n",
    "\t\ty1 = y_true * np.log(y_pred + epsilon)\n",
    "\t\ty2 = (1-y_true) * np.log(1 - y_pred + epsilon)\n",
    "\t\treturn -np.mean(y1 + y2)\n",
    "\n",
    "\n",
    "\n",
    "\tdef feed_forward(self,X):\n",
    "\t\tz = np.dot(X, self.weights) + self.bias\n",
    "\t\tA = self._sigmoid(z)\n",
    "\t\treturn A\n",
    "\n",
    "\n",
    "\n",
    "\tdef fit(self, X, y):\n",
    "\t\tn_samples, n_features = X.shape\n",
    "\n",
    "\t\t# init parameters\n",
    "\t\tself.weights = np.zeros(n_features)\n",
    "\t\tself.bias = 0\n",
    "\n",
    "\t\t# gradient descent\n",
    "\t\tfor _ in range(self.n_iters):\n",
    "\t\t\t\tA = self.feed_forward(X)\n",
    "\t\t\t\tself.losses.append(self.compute_loss(y,A))\n",
    "\t\t\t\tdz = A - y # derivative of sigmoid and bce X.T*(A-y)\n",
    "\t\t\t\t# compute gradients\n",
    "\t\t\t\tdw = (1 / n_samples) * np.dot(dz, X) \n",
    "\t\t\t\tdb = (1 / n_samples) * np.sum(dz)\n",
    "\t\t\t\t# update parameters\n",
    "\t\t\t\tself.weights -= self.lr * dw\n",
    "\t\t\t\tself.bias -= self.lr * db\n",
    "\t\t\t\t\n",
    "\n",
    "\t\t\t\t\n",
    "\tdef predict(self, X):\n",
    "\t\tthreshold = .5\n",
    "\t\ty_hat = np.dot(X, self.weights) + self.bias\n",
    "\t\ty_predicted = self._sigmoid(y_hat)\n",
    "\t\ty_predicted_cls = [1 if i > threshold else 0 for i in y_predicted]\n",
    "\t\treturn np.array(y_predicted_cls)"
   ]
  },
  {
   "cell_type": "markdown",
   "metadata": {},
   "source": [
    "### **Forward Propagation:**\n",
    "The process of calculating the model's predictions using the current parameters (weights and bias).\n",
    "\n",
    "\n",
    "### **Backward Propagation:**\n",
    "The process of computing the gradients of the loss function with respect to the parameters and updating the parameters to minimize the loss.\n",
    "Backward propagation helps adjust the model’s parameters to move closer to the optimal decision boundary.\n",
    "\n",
    "\n",
    "### **Why there's this process:**\n",
    "This two process (forward and backward) is done in order to optimize the model so that it can fit the data, in order to find the line that best separates the classes."
   ]
  },
  {
   "cell_type": "markdown",
   "metadata": {},
   "source": [
    "#### Plots and the line curves before backward propagation"
   ]
  },
  {
   "cell_type": "code",
   "execution_count": 202,
   "metadata": {},
   "outputs": [],
   "source": [
    "from sklearn import preprocessing"
   ]
  },
  {
   "cell_type": "markdown",
   "metadata": {},
   "source": [
    "### Medium's Models"
   ]
  },
  {
   "cell_type": "code",
   "execution_count": null,
   "metadata": {},
   "outputs": [
    {
     "name": "stdout",
     "output_type": "stream",
     "text": [
      "[0 1 0 0 0 1 0 0 1 0 1 0 1 0 0 0 0 0 0 0 0 1 0 0 1 0 0 1 0 0 1 1 1 0 0 0 1\n",
      " 0 0 0 1 1 0 1 0 0 0 0 0 0 1 0 0 0 0 1 0 1 0 0 0 1 0 1 0 0 0 0 0 1 0 0 1 0\n",
      " 0 0 0 1 0 0 0 0 0 0 1 0 0 0 1 0 0 0 1 1 1 1 0 1 1 1 0 0 0 0 0 1 0 1 0 0 1\n",
      " 0 0 1 1 0 1 1 1 0]\n",
      "[0 1 0 1 1 0 0 0 1 1 0 0 1 0 1 1 0 0 0 0 0 1 0 1 1 1 0 0 1 0 1 0 1 1 0 0 1\n",
      " 0 0 0 0 1 0 0 0 0 0 0 0 0 1 0 0 1 0 0 0 0 0 0 0 1 0 1 0 0 0 0 0 1 0 0 0 0\n",
      " 0 0 0 1 0 0 0 0 0 0 1 0 0 0 1 0 0 0 1 1 1 1 0 1 0 0 0 0 0 0 1 0 0 1 0 0 1\n",
      " 0 0 1 1 0 1 1 1 0]\n",
      "97  out of  120\n",
      "80.83%\n"
     ]
    }
   ],
   "source": [
    "\n",
    "trainTest = LogisticRegression()\n",
    "model = LogisticRegressionMedium()\n",
    "\n",
    "x = np.array(data['Age'])\n",
    "y = np.array(data['Purchased'])\n",
    "\n",
    "x = x.reshape(-1, 1)\n",
    "\n",
    "x_normalize = preprocessing.StandardScaler()\n",
    "x_norm = x_normalize.fit_transform(x)\n",
    "\n",
    "x_train, y_train, x_test, y_test = trainTest.train_test_split(x_norm, y, 0.3)\n",
    "\n",
    "model.fit(x_train, y_train)\n",
    "y_pred = model.predict(x_test)\n",
    "\n",
    "print(y_pred)\n",
    "print(y_test)\n",
    "correct = np.sum(y_test == y_pred)\n",
    "print(correct, \" out of \", len(y_test))\n",
    "print(f'{correct / len(y_test) * 100:.2f}%')\n"
   ]
  },
  {
   "cell_type": "markdown",
   "metadata": {},
   "source": [
    "### Aqilah's Model"
   ]
  },
  {
   "cell_type": "code",
   "execution_count": null,
   "metadata": {},
   "outputs": [
    {
     "name": "stdout",
     "output_type": "stream",
     "text": [
      "[0 0 0 0 0 1 0 0 0 0 0 0 0 1 1 1 0 1 0 0 0 0 1 0 0 0 0 0 1 0 1 0 0 0 1 0 0\n",
      " 1 0 1 0 1 1 1 1 0 0 0 1 0 0 1 0 0 0 0 0 1 0 0 0 0 0 0 0 1 0 0 0 0 1 0 1 1\n",
      " 0 1 1 1 0 1 1 0 0 0 1 1 0 0 1 0 0 0 0 0 0 0 1 0 0 0 1 0 1 0 0 1 0 1 1 0 0\n",
      " 0 1 0 0 1 1 0 0 1]\n",
      "[0 1 0 0 0 1 0 0 0 0 0 1 0 1 1 1 0 0 0 0 0 0 0 0 0 0 0 0 1 1 1 1 0 0 0 0 1\n",
      " 1 0 1 0 0 1 0 0 1 0 0 1 0 0 1 0 0 0 0 0 0 1 0 0 1 0 1 0 1 0 0 0 0 1 0 1 1\n",
      " 0 1 1 1 1 1 1 0 1 1 1 1 0 0 1 1 0 0 0 0 1 0 1 0 1 0 1 0 1 1 0 1 0 1 1 0 1\n",
      " 0 1 0 0 1 1 0 0 0]\n",
      "95  out of  120\n",
      "79.17%\n"
     ]
    }
   ],
   "source": [
    "\n",
    "model = LogisticRegression()\n",
    "\n",
    "x = np.array(data['Age'])\n",
    "y = np.array(data['Purchased'])\n",
    "x = x.reshape(-1, 1)\n",
    "x_normalize = preprocessing.StandardScaler()\n",
    "x_norm = x_normalize.fit_transform(x)\n",
    "\n",
    "x_train, y_train, x_test, y_test = model.train_test_split(x_norm, y, 0.3)\n",
    "\n",
    "model.gradient_descent(x_train, y_train)\n",
    "y_pred = model.predict(x_test)\n",
    "\n",
    "print(y_pred)\n",
    "print(y_test)\n",
    "\n",
    "correct = np.sum(y_test == y_pred)\n",
    "print(correct, \" out of \", len(y_test))\n",
    "print(f'{correct / len(y_test) * 100:.2f}%')"
   ]
  },
  {
   "cell_type": "markdown",
   "metadata": {},
   "source": [
    "# Compare The Logistic Plot before trained and after trained\n",
    "Using regplot"
   ]
  },
  {
   "cell_type": "code",
   "execution_count": null,
   "metadata": {},
   "outputs": [],
   "source": []
  }
 ],
 "metadata": {
  "kernelspec": {
   "display_name": "newKernel",
   "language": "python",
   "name": "python3"
  },
  "language_info": {
   "codemirror_mode": {
    "name": "ipython",
    "version": 3
   },
   "file_extension": ".py",
   "mimetype": "text/x-python",
   "name": "python",
   "nbconvert_exporter": "python",
   "pygments_lexer": "ipython3",
   "version": "3.10.13"
  }
 },
 "nbformat": 4,
 "nbformat_minor": 2
}
